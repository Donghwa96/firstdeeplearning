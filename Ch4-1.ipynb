{
 "cells": [
  {
   "cell_type": "markdown",
   "metadata": {},
   "source": [
    "<h1> 경사 하강법 </h1><br>\n",
    "오차와 기울기의 관계를 그래프로 그려보면 어느 한 기울기에서 오차가 최소인 점을 알 수 있다.<br>\n",
    "그 점은 기울기가 0인 점이다. 즉, 오차가 최소인 점을 알아낼려면 기울기가 0인 점을 찾아내면 된다.<br>\n",
    "그래서 어느 한 점을 정해두고 정해둔 학습률과 함께 미분을 하면서 이동하다보면 오차가 최소인 점을 찾게 되는데 <br>\n",
    "마치 경사를 타고 내려가는 것처럼 보여져서 이 방법을 경사 하강법이라 한다."
   ]
  },
  {
   "cell_type": "code",
   "execution_count": 6,
   "metadata": {},
   "outputs": [
    {
     "name": "stderr",
     "output_type": "stream",
     "text": [
      "C:\\Users\\Dong Hwa\\Anaconda3\\lib\\site-packages\\h5py\\__init__.py:36: FutureWarning: Conversion of the second argument of issubdtype from `float` to `np.floating` is deprecated. In future, it will be treated as `np.float64 == np.dtype(float).type`.\n",
      "  from ._conv import register_converters as _register_converters\n"
     ]
    }
   ],
   "source": [
    "import tensorflow as tf\n",
    "data = [[2,81], [4,93], [6,91], [8,97]]\n",
    "x_data = [x_row[0] for x_row in data]\n",
    "y_data = [y_row[1] for y_row in data]\n"
   ]
  },
  {
   "cell_type": "markdown",
   "metadata": {},
   "source": [
    "x,y 데이터 값 지정"
   ]
  },
  {
   "cell_type": "code",
   "execution_count": 7,
   "metadata": {},
   "outputs": [],
   "source": [
    "a = tf.Variable(tf.random_uniform([1],0,10,dtype=tf.float64, seed=0))\n",
    "b = tf.Variable(tf.random_uniform([1],0,100,dtype=tf.float64, seed=0))\n"
   ]
  },
  {
   "cell_type": "markdown",
   "metadata": {},
   "source": [
    "기울기 a와 y절편 b의 값을 임의로 정함!<br>\n",
    "단, 기울기와 범위는 0~10, 절편 범위는 0~100이고 데이터 타입은 tf.float64(64비트 부동소수점 숫자)<br>\n",
    "tf.random_uniform은 정규분포 난수를 생성하는 함수!<br>\n",
    "seed=0으로 지정해 실행시 같은 값 얻게 함.\n"
   ]
  },
  {
   "cell_type": "code",
   "execution_count": 8,
   "metadata": {},
   "outputs": [],
   "source": [
    "y = a * x_data + b\n",
    "rmse = tf.sqrt(tf.reduce_mean(tf.square(y-y_data)))\n",
    "learning_rate = 0.1\n",
    "gradient_decent = tf.train.GradientDescentOptimizer(learning_rate).minimize(rmse)"
   ]
  },
  {
   "cell_type": "markdown",
   "metadata": {},
   "source": [
    "처음에 y에 대한 일차 방정식을 세운 후 텐서플로 함수를 이용해서 rmse 만듬. 그리고 학습률 지정<br>\n",
    "경사 하강법 알고리즘을 완벽히 구현한 함수가 GradientDescentOptimizer!<br>\n",
    "learning_rate를 인자로 둬서 0.1만큼 계속 내려가게 끔 만들고 minimize를 통해 제일 작은 rmse를 찾게 만든다."
   ]
  },
  {
   "cell_type": "code",
   "execution_count": 9,
   "metadata": {},
   "outputs": [
    {
     "name": "stdout",
     "output_type": "stream",
     "text": [
      "Epoch: 0.000000, RMSE = 30.2139, 기울기 a = 7.5235, y 절편 b = 80.5984\n",
      "Epoch: 100.000000, RMSE = 2.8860, 기울기 a = 2.2299, y 절편 b = 79.4181\n",
      "Epoch: 200.000000, RMSE = 2.8826, 기울기 a = 2.2601, y 절편 b = 79.2379\n",
      "Epoch: 300.000000, RMSE = 2.8815, 기울기 a = 2.2773, y 절편 b = 79.1353\n",
      "Epoch: 400.000000, RMSE = 2.8811, 기울기 a = 2.2871, y 절편 b = 79.0770\n",
      "Epoch: 500.000000, RMSE = 2.8810, 기울기 a = 2.2927, y 절편 b = 79.0438\n",
      "Epoch: 600.000000, RMSE = 2.8810, 기울기 a = 2.2958, y 절편 b = 79.0249\n",
      "Epoch: 700.000000, RMSE = 2.8810, 기울기 a = 2.2976, y 절편 b = 79.0142\n",
      "Epoch: 800.000000, RMSE = 2.8810, 기울기 a = 2.2987, y 절편 b = 79.0081\n",
      "Epoch: 900.000000, RMSE = 2.8810, 기울기 a = 2.2992, y 절편 b = 79.0046\n",
      "Epoch: 1000.000000, RMSE = 2.8810, 기울기 a = 2.2996, y 절편 b = 79.0026\n",
      "Epoch: 1100.000000, RMSE = 2.8810, 기울기 a = 2.2998, y 절편 b = 79.0015\n",
      "Epoch: 1200.000000, RMSE = 2.8810, 기울기 a = 2.2999, y 절편 b = 79.0008\n",
      "Epoch: 1300.000000, RMSE = 2.8810, 기울기 a = 2.2999, y 절편 b = 79.0005\n",
      "Epoch: 1400.000000, RMSE = 2.8810, 기울기 a = 2.3000, y 절편 b = 79.0003\n",
      "Epoch: 1500.000000, RMSE = 2.8810, 기울기 a = 2.3000, y 절편 b = 79.0002\n",
      "Epoch: 1600.000000, RMSE = 2.8810, 기울기 a = 2.3000, y 절편 b = 79.0001\n",
      "Epoch: 1700.000000, RMSE = 2.8810, 기울기 a = 2.3000, y 절편 b = 79.0001\n",
      "Epoch: 1800.000000, RMSE = 2.8810, 기울기 a = 2.3000, y 절편 b = 79.0000\n",
      "Epoch: 1900.000000, RMSE = 2.8810, 기울기 a = 2.3000, y 절편 b = 79.0000\n",
      "Epoch: 2000.000000, RMSE = 2.8810, 기울기 a = 2.3000, y 절편 b = 79.0000\n"
     ]
    }
   ],
   "source": [
    "with tf.Session() as sess:\n",
    "    sess.run(tf.global_variables_initializer())\n",
    "    for step in range(2001):\n",
    "        sess.run(gradient_decent)\n",
    "        if step % 100 == 0:\n",
    "            print(\"Epoch: %f, RMSE = %.04f, 기울기 a = %.4f, y 절편 b = %.4f\" %(step, sess.run(rmse), sess.run(a), sess.run(b)))"
   ]
  },
  {
   "cell_type": "markdown",
   "metadata": {},
   "source": [
    "<h2>with tf.Session() as sess를 사용해 경사 하강법을 실행시키고 실행이 끝나면 닫게 했다.</h2><br>\n",
    "그렇다. 컨텍스트 매니저다. sess.run(tf.global_variables_initilizer())를 통해 변수를 초기화!<br>\n",
    "그 후 sess.run()함수를 통해 필요한 인자들 실행!<br>\n",
    "실행 결과 epoch가 지날수록 어느 오차, 기울기, 절편에 도달하는 걸 확인할 수 있다!\n",
    "<h2>추가! </h2>\n",
    "with을 안 쓰고 tf.Session()만 사용하고 싶으면 마지막에 sess.close()를 해야 실행이 끝!<br>\n",
    "Session 객체는 파이썬 객체와 데이터, 객체의 메모리가 할당되어 있는 <br>\n",
    "실행 환경 사이를 연결하며, 중간 결과를 저정하고 최종 결과를 작업 환경으로 보내줌!"
   ]
  },
  {
   "cell_type": "code",
   "execution_count": null,
   "metadata": {},
   "outputs": [],
   "source": []
  }
 ],
 "metadata": {
  "kernelspec": {
   "display_name": "Python 3",
   "language": "python",
   "name": "python3"
  },
  "language_info": {
   "codemirror_mode": {
    "name": "ipython",
    "version": 3
   },
   "file_extension": ".py",
   "mimetype": "text/x-python",
   "name": "python",
   "nbconvert_exporter": "python",
   "pygments_lexer": "ipython3",
   "version": "3.6.5"
  }
 },
 "nbformat": 4,
 "nbformat_minor": 2
}
