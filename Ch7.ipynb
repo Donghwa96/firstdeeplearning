{
 "cells": [
  {
   "cell_type": "markdown",
   "metadata": {},
   "source": [
    "<h1> 7장 다층 퍼셉트론 </h1><hr>\n",
    "<h5> XOR 문제의 해결은 평면을 휘어주는 것!</h5><br>\n",
    "즉, 해결하기 위해 두 개의 퍼셉트론을 한 번에 계산해야 하는데 가능하게 하려면<br>\n",
    "은닉층을 만들어야 함!"
   ]
  },
  {
   "cell_type": "markdown",
   "metadata": {},
   "source": [
    "가중치 설정"
   ]
  },
  {
   "cell_type": "code",
   "execution_count": 9,
   "metadata": {},
   "outputs": [],
   "source": [
    "import numpy as np\n",
    "\n",
    "w11 = np.array([-2,-2])\n",
    "w12 = np.array([2,2])\n",
    "w2 = np.array([1,1])\n",
    "b1 = 3\n",
    "b2 = -1\n",
    "b3 = -1"
   ]
  },
  {
   "cell_type": "markdown",
   "metadata": {},
   "source": [
    "퍼셉트론 함수. y값이 0보다 작거나 같으면 결과 0을 반환, 아니면 1을 반환!"
   ]
  },
  {
   "cell_type": "code",
   "execution_count": 10,
   "metadata": {},
   "outputs": [],
   "source": [
    "def MLP(x,w,b):\n",
    "    y = np.sum(w * x) + b\n",
    "    if y <= 0:\n",
    "        return 0\n",
    "    else:\n",
    "        return 1"
   ]
  },
  {
   "cell_type": "code",
   "execution_count": 11,
   "metadata": {},
   "outputs": [
    {
     "name": "stdout",
     "output_type": "stream",
     "text": [
      "입력값: (0, 0)출력 값: 0\n",
      "입력값: (0, 1)출력 값: 1\n",
      "입력값: (1, 0)출력 값: 1\n",
      "입력값: (1, 1)출력 값: 0\n"
     ]
    }
   ],
   "source": [
    "import numpy as np\n",
    "\n",
    "def NAND(x1,x2):\n",
    "    return MLP(np.array([x1,x2]),w11,b1)\n",
    "\n",
    "def OR(x1,x2):\n",
    "    return MLP(np.array([x1,x2]),w12,b2)\n",
    "\n",
    "def AND(x1,x2):\n",
    "    return MLP(np.array([x1,x2]),w2,b3)\n",
    "\n",
    "def XOR(x1,x2):\n",
    "    return AND(NAND(x1,x2),OR(x1,x2))\n",
    "\n",
    "if __name__=='__main__':\n",
    "    for x in[(0,0),(0,1),(1,0),(1,1)]:\n",
    "        y = XOR(x[0],x[1])\n",
    "        print(\"입력값: \" +str(x) + \"출력 값: \" + str(y))"
   ]
  },
  {
   "cell_type": "markdown",
   "metadata": {},
   "source": [
    "정해준 가중치에 입력값을 넣으면 출력값이 0,1,1,0이나오는 XOR이 나와야 퍼셉트론의 문제가 해결! <br>\n",
    "이걸 하기 위해서는 하나라도 0이 아니면 1을 출력하는 NAND 게이트 1이 하나만 있어도 1을 출력하는 0R 게이트 <br>\n",
    "이 두가지를 내재한 각각의 퍼셉트론이 다중 레이어 안에서 각각 작동하고, 이 두 가지의 값에 대해 AND 게이트를 수행한 값이 우리가 원하는 값!<br>\n",
    "이렇게 퍼셉트론 하나로 은닉층을 만들어 해결! 이걸 '신경망'이라고 부름!\n"
   ]
  },
  {
   "cell_type": "markdown",
   "metadata": {},
   "source": [
    "<h2> if__name == '__main__': 기능, 존재이유 </h2><br>\n",
    "방금 만든 코드를 nand.py라고 하면 스크립트나 파이썬 인터프리터에서 nand.py를 작동시키면 if __name__ 문 밑 코드가 실행되어 그 값이 나온다.\n",
    "하지만 if 문 밑의 코드를 작동시키고 싶지 않을 수 있기 때문에 if __name__ == '__main__'을 두고 nand.py를 import하면 nand.py안의 함수를\n",
    "맘껏 사용할 수 있다.\n",
    "<h4>존재이유 </h4> 1. 코드 구조를 구조적으로 만들기 위해  2. 불필요한 함수 호출을 방지하기 위해"
   ]
  },
  {
   "cell_type": "code",
   "execution_count": null,
   "metadata": {},
   "outputs": [],
   "source": []
  }
 ],
 "metadata": {
  "kernelspec": {
   "display_name": "Python 3",
   "language": "python",
   "name": "python3"
  },
  "language_info": {
   "codemirror_mode": {
    "name": "ipython",
    "version": 3
   },
   "file_extension": ".py",
   "mimetype": "text/x-python",
   "name": "python",
   "nbconvert_exporter": "python",
   "pygments_lexer": "ipython3",
   "version": "3.6.5"
  }
 },
 "nbformat": 4,
 "nbformat_minor": 2
}
