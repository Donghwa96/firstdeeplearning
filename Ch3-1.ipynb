{
 "cells": [
  {
   "cell_type": "markdown",
   "metadata": {},
   "source": [
    "<h1> 선형 회귀 </h1>"
   ]
  },
  {
   "cell_type": "markdown",
   "metadata": {},
   "source": [
    "딥러닝을 이해하려면 딥러닝의 가장 말단에서 이루어지는 기본 계산 원리 두 가지\n",
    "1. 선형 회귀 2. 로지스틱 회귀를 알아야 함!"
   ]
  },
  {
   "cell_type": "code",
   "execution_count": 2,
   "metadata": {},
   "outputs": [
    {
     "name": "stdout",
     "output_type": "stream",
     "text": [
      "기울기 a : 2.3\n",
      "y 절편 b : 79.0\n"
     ]
    }
   ],
   "source": [
    "import numpy as np\n",
    "x = [2,4,6,8]\n",
    "y = [81,93,91,97]\n",
    "mx = np.mean(x)\n",
    "my = np.mean(y)\n",
    "divisor = sum([(mx-i)**2 for i in x])\n",
    "\n",
    "def top(x,mx,y,my):\n",
    "    d = 0\n",
    "    for i in range(len(x)):\n",
    "        d += (x[i]-mx)*(y[i]-my)\n",
    "    return d\n",
    "\n",
    "divendend = top(x,mx,y,my)\n",
    "a = divendend / divisor\n",
    "b = my - mx*a\n",
    "print(\"기울기 a :\", a)\n",
    "print(\"y 절편 b :\", b)"
   ]
  },
  {
   "cell_type": "code",
   "execution_count": null,
   "metadata": {},
   "outputs": [],
   "source": []
  }
 ],
 "metadata": {
  "kernelspec": {
   "display_name": "Python 3",
   "language": "python",
   "name": "python3"
  },
  "language_info": {
   "codemirror_mode": {
    "name": "ipython",
    "version": 3
   },
   "file_extension": ".py",
   "mimetype": "text/x-python",
   "name": "python",
   "nbconvert_exporter": "python",
   "pygments_lexer": "ipython3",
   "version": "3.6.5"
  }
 },
 "nbformat": 4,
 "nbformat_minor": 2
}
