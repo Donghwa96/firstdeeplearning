{
 "cells": [
  {
   "cell_type": "markdown",
   "metadata": {},
   "source": [
    "<h1> 9장 신경망에서 딥러닝으로 </h1>"
   ]
  },
  {
   "cell_type": "markdown",
   "metadata": {},
   "source": [
    "신경망이 XOR 문제를 해결했으므로 인공지능이 만들어 질 줄 알았지만 현실은 달랐다.\n",
    "오처 역전파는 출력층으로부터 각 층의 가중치를 수정하는 방법인데 가중치를 수정하려면 기울기가 필요한다. 근데 잘못된 활성화 함수를 적용하면 기울기가 소실된다(0).\n",
    "그리고 경사 하강법은 계산량이 많아 고급 경사 하강법을 사용!"
   ]
  },
  {
   "cell_type": "code",
   "execution_count": null,
   "metadata": {},
   "outputs": [],
   "source": []
  }
 ],
 "metadata": {
  "kernelspec": {
   "display_name": "Python 3",
   "language": "python",
   "name": "python3"
  },
  "language_info": {
   "codemirror_mode": {
    "name": "ipython",
    "version": 3
   },
   "file_extension": ".py",
   "mimetype": "text/x-python",
   "name": "python",
   "nbconvert_exporter": "python",
   "pygments_lexer": "ipython3",
   "version": "3.6.5"
  }
 },
 "nbformat": 4,
 "nbformat_minor": 2
}
