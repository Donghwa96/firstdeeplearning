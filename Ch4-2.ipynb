{
 "cells": [
  {
   "cell_type": "markdown",
   "metadata": {},
   "source": [
    "<h1> 코딩으로 확인하는 다중 선형 회귀</h1>\n"
   ]
  },
  {
   "cell_type": "code",
   "execution_count": 6,
   "metadata": {},
   "outputs": [
    {
     "name": "stdout",
     "output_type": "stream",
     "text": [
      "Epoch: 0, RMSE = 49.1842, a1 = 7.5270, a2 = 7.8160, b = 80.5980\n",
      "Epoch: 100, RMSE = 1.8368, a1 = 1.1306, a2 = 2.1316, b = 78.5119\n",
      "Epoch: 200, RMSE = 1.8370, a1 = 1.1879, a2 = 2.1487, b = 78.1057\n",
      "Epoch: 300, RMSE = 1.8370, a1 = 1.2122, a2 = 2.1571, b = 77.9352\n",
      "Epoch: 400, RMSE = 1.8370, a1 = 1.2226, a2 = 2.1607, b = 77.8636\n",
      "Epoch: 500, RMSE = 1.8370, a1 = 1.2269, a2 = 2.1622, b = 77.8335\n",
      "Epoch: 600, RMSE = 1.8370, a1 = 1.2288, a2 = 2.1628, b = 77.8208\n",
      "Epoch: 700, RMSE = 1.8370, a1 = 1.2295, a2 = 2.1631, b = 77.8155\n",
      "Epoch: 800, RMSE = 1.8370, a1 = 1.2299, a2 = 2.1632, b = 77.8133\n",
      "Epoch: 900, RMSE = 1.8370, a1 = 1.2300, a2 = 2.1632, b = 77.8124\n",
      "Epoch: 1000, RMSE = 1.8370, a1 = 1.2301, a2 = 2.1633, b = 77.8120\n",
      "Epoch: 1100, RMSE = 1.8370, a1 = 1.2301, a2 = 2.1633, b = 77.8118\n",
      "Epoch: 1200, RMSE = 1.8370, a1 = 1.2301, a2 = 2.1633, b = 77.8117\n",
      "Epoch: 1300, RMSE = 1.8370, a1 = 1.2301, a2 = 2.1633, b = 77.8117\n",
      "Epoch: 1400, RMSE = 1.8370, a1 = 1.2301, a2 = 2.1633, b = 77.8117\n",
      "Epoch: 1500, RMSE = 1.8370, a1 = 1.2301, a2 = 2.1633, b = 77.8117\n",
      "Epoch: 1600, RMSE = 1.8370, a1 = 1.2301, a2 = 2.1633, b = 77.8117\n",
      "Epoch: 1700, RMSE = 1.8370, a1 = 1.2301, a2 = 2.1633, b = 77.8117\n",
      "Epoch: 1800, RMSE = 1.8370, a1 = 1.2301, a2 = 2.1633, b = 77.8117\n",
      "Epoch: 1900, RMSE = 1.8370, a1 = 1.2301, a2 = 2.1633, b = 77.8117\n",
      "Epoch: 2000, RMSE = 1.8370, a1 = 1.2301, a2 = 2.1633, b = 77.8117\n"
     ]
    }
   ],
   "source": [
    "import tensorflow as tf\n",
    "data = [[2,0,81], [4,4,93], [6,2,91], [8,3,97]]\n",
    "x1 = [x_row1[0] for x_row1 in data]\n",
    "x2 = [x_row2[1] for x_row2 in data]\n",
    "y_data = [y_row[2] for y_row in data ]\n",
    "a1 = tf.Variable(tf.random_uniform([1],0,10,dtype=tf.float64,seed=0))\n",
    "a2 = tf.Variable(tf.random_uniform([1],0,10,dtype=tf.float64,seed=0))\n",
    "b = tf.Variable(tf.random_uniform([1],0,100,dtype=tf.float64,seed=0))\n",
    "y = a1 * x1 + a2 * x2 + b\n",
    "rmse = tf.sqrt(tf.reduce_mean(tf.square(y-y_data)))\n",
    "learning_rate= 0.1\n",
    "gradient_decent = tf.train.GradientDescentOptimizer(learning_rate).minimize(rmse)\n",
    "\n",
    "with tf.Session() as sess:\n",
    "    sess.run(tf.global_variables_initializer())\n",
    "    for step in range(2001):\n",
    "        sess.run(gradient_decent)\n",
    "        if step % 100 == 0:\n",
    "            print(\"Epoch: %.f, RMSE = %.04f, a1 = %.4f, a2 = %.4f, b = %.4f\" %(step, sess.run(rmse), sess.run(a1), sess.run(a2), sess.run(b)))"
   ]
  },
  {
   "cell_type": "code",
   "execution_count": null,
   "metadata": {},
   "outputs": [],
   "source": []
  }
 ],
 "metadata": {
  "kernelspec": {
   "display_name": "Python 3",
   "language": "python",
   "name": "python3"
  },
  "language_info": {
   "codemirror_mode": {
    "name": "ipython",
    "version": 3
   },
   "file_extension": ".py",
   "mimetype": "text/x-python",
   "name": "python",
   "nbconvert_exporter": "python",
   "pygments_lexer": "ipython3",
   "version": "3.6.5"
  }
 },
 "nbformat": 4,
 "nbformat_minor": 2
}
