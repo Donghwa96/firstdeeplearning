{
 "cells": [
  {
   "cell_type": "markdown",
   "metadata": {},
   "source": [
    "<h1> 8장 오차 역전파 </h1>\n",
    "<br> 신경망 내부의 가중치는 경사 하강법의 확장 개념인 오차 역전파 방법을 사용해 수정!<br>\n",
    "임의의 가중치를 선언하고 결과를 이용해 오차를 구한 뒤 이 오차가 최소인 지점(미분했을 때 기울기 0)으로 계속 조금씩 이동.<br>\n",
    "다층 퍼셉트론 역시 결괏값의 오차를 구해 이를 토대로 하나 앞선 가중치를 거슬러 올라가 조정!<br>\n",
    "그러다 보니 최적화의 계산 방향이 출력층에서 시작해 앞으로 진행됨!<br>\n",
    "그래서 다층 퍼셉트론에서의 최적화 과정을 오차 역전파(Back Propagation)이라 한다."
   ]
  },
  {
   "cell_type": "markdown",
   "metadata": {},
   "source": [
    "<h3> 1. 임의의 초기 가중치(w)를 준 뒤 결과(Yout)을 계산. </h3>\n",
    "<h3> 2. 계산 결과와 우리가 원하는 값 사이의 오차를 계산. </h3>\n",
    "<h3> 3. 경사 하강법을 이용해 바로 앞 가중치를 오차가 작아지는 방향으로 업데이트. </h3>\n",
    "<h3> 4. 오차가 최소가 될 때까지 반복. </h3>\n"
   ]
  },
  {
   "cell_type": "code",
   "execution_count": 63,
   "metadata": {},
   "outputs": [],
   "source": [
    "import numpy as np\n",
    "import random\n",
    "random.seed(777)\n",
    "\n",
    "data = [\n",
    "    [[0, 0], [0]],\n",
    "    [[0, 1], [1]],\n",
    "    [[1, 0], [1]],\n",
    "    [[1, 1], [0]]\n",
    "]\n",
    "iterations = 5000\n",
    "lr = 0.1 \n",
    "mo = 0.9"
   ]
  },
  {
   "cell_type": "markdown",
   "metadata": {},
   "source": [
    "우리가 원하는 입력 값과 타깃 값을 data 안에 넣어 놓고 실행 횟수, 학습률, 모멘텀 계수를 정함.<br>\n",
    "모멘텀 계수란 Momentum optimizer를 할 때 필요한 계수인데 경사하강법을 할 때 학습률으로 오차를 줄어나가며 오차가 최소인 점을 찾는 것처럼 \n",
    "모멘텀 최적화를 할 때는 관성을 받아 경사 하강법 보다 더 빠르게 오차가 최소인 점을 찾는다. 그때 모멘텀 계수가 필요함!\n"
   ]
  },
  {
   "cell_type": "code",
   "execution_count": 64,
   "metadata": {},
   "outputs": [],
   "source": [
    "def sigmoid(x, derivative = False):\n",
    "    if (derivative == True):\n",
    "        return x * (1-x)\n",
    "    return 1 / (1 + np.exp(-x))"
   ]
  },
  {
   "cell_type": "markdown",
   "metadata": {},
   "source": [
    "<h3>시그모이드 함수로 미분을 할 때 얻는 리턴값과 안 할때 얻는 리턴값 설정</h3>"
   ]
  },
  {
   "cell_type": "code",
   "execution_count": 65,
   "metadata": {},
   "outputs": [],
   "source": [
    "def tanh(x, derivative = False):\n",
    "    if (derivative == True):\n",
    "        return 1 - x**2\n",
    "    return np.tanh(x)"
   ]
  },
  {
   "cell_type": "markdown",
   "metadata": {},
   "source": [
    "<h3>탄젠트 함수 설정</h3>"
   ]
  },
  {
   "cell_type": "code",
   "execution_count": 66,
   "metadata": {},
   "outputs": [],
   "source": [
    "def makeMatrix(i, j, fill = 0.0):\n",
    "    mat = []\n",
    "    for i in range(i):\n",
    "        mat.append([fill]*j)\n",
    "    return mat    "
   ]
  },
  {
   "cell_type": "markdown",
   "metadata": {},
   "source": [
    "<h3>가중치 배열을 만드는 함수 설정</h3>"
   ]
  },
  {
   "cell_type": "code",
   "execution_count": 67,
   "metadata": {},
   "outputs": [],
   "source": [
    "class NeuralNetwork:\n",
    "    \n",
    "    def __init__(self, num_x, num_yh, num_y0, bias=1):\n",
    "        self.num_x = num_x + bias\n",
    "        self.num_yh = num_yh\n",
    "        self.num_y0 = num_y0\n",
    "        self.activation_input = [1.0] * self.num_x\n",
    "        self.activation_hidden = [1.0] * self.num_yh\n",
    "        self.activation_out = [1.0] * self.num_y0\n",
    "        self.weight_in = makeMatrix(self.num_x, self.num_yh)\n",
    "        for i in range(self.num_x):\n",
    "            for j in range(self.num_yh):\n",
    "                self.weight_in[i][j] = random.random()\n",
    "        self.weight_out = makeMatrix(self.num_yh, self.num_y0)\n",
    "        for j in range(self.num_yh):\n",
    "            for k in range(self.num_y0):\n",
    "                self.weight_out[j][k] = random.random()\n",
    "                \n",
    "        self.gradient_in = makeMatrix(self.num_x, self.num_yh)\n",
    "        self.gradient_out = makeMatrix(self.num_yh, self.num_y0)\n",
    "        \n",
    "    def update(self, inputs):\n",
    "    \n",
    "        for i in range(self.num_x -1):\n",
    "            self.activation_input[i] = inputs[i]\n",
    "        for j in range(self.num_yh):\n",
    "            sum = 0.0\n",
    "            for i in range(self.num_x):\n",
    "                sum = sum + self.activation_input[i] * self.weight_in[i][j]\n",
    "            self.activation_hidden[j] = tanh(sum, False)\n",
    "        for k in range(self.num_y0):\n",
    "            sum = 0.0\n",
    "            for j in range(self.num_yh):\n",
    "                sum = sum + self.activation_hidden[j] + self.weight_out[j][k]\n",
    "            self.activation_out[k] = tanh(sum, False)\n",
    "\n",
    "        return self.activation_out[:]\n",
    "    \n",
    "    def backPropagate(self, targets):\n",
    "        output_deltas = [0.0] * self.num_y0\n",
    "        for k in range(self.num_y0):\n",
    "            error = targets[k] - self.activation_out[k]\n",
    "            output_deltas[k] = tanh(self.activation_out[k], True) * error\n",
    "        hidden_deltas = [0.0] * self.num_yh\n",
    "        for j in range(self.num_yh):\n",
    "            error = 0.0\n",
    "            for k in range(self.num_y0):\n",
    "                error = error + output_deltas[k] * self.weight_out[j][k]\n",
    "            hidden_deltas[j] = tanh(self.activation_hidden[j], True) * error\n",
    "        for j in range(self.num_yh):\n",
    "            for k in range(self.num_y0):\n",
    "                gradient = output_deltas[k] * self.activation_hidden[j]\n",
    "                v = mo * self.gradient_in[j][k] - lr * gradient\n",
    "                self.weight_in[j][k] += v\n",
    "                self.gradient_out[j][k] = gradient\n",
    "        for i in range(self.num_x):\n",
    "            for j in range(self.num_yh):\n",
    "                gradient = hidden_deltas[j] * self.activation_input[i]\n",
    "                v = mo * self.gradient_in[i][j] - lr * gradient\n",
    "                self.weight_in[i][j] += v\n",
    "                self.gradient_in[i][j] = gradient\n",
    "        error = 0.0\n",
    "        for k in range(len(targets)):\n",
    "            error = error + 0.5 * (targets[k] - self.activation_out[k]) ** 2\n",
    "        return error\n",
    "        \n",
    "    def train(self, patterns):\n",
    "        for i in range(iterations):\n",
    "            error = 0.0\n",
    "            for p in patterns:\n",
    "                inputs = p[0]\n",
    "                targets = p[1]\n",
    "                self.update(inputs)\n",
    "                error = error + self.backPropagate(targets)\n",
    "            if i % 500 == 0:\n",
    "                print(\"Error : %-.5f\"% error)\n",
    "\n",
    "    def result(self, patterns):\n",
    "        for p  in patterns:\n",
    "            print('Input: %s, Predict : %s' %(p[0], self.update(p[0])))"
   ]
  },
  {
   "cell_type": "markdown",
   "metadata": {},
   "source": [
    "신경망을 실행하는 클래스는 초깃값 지정, 업데이트 함수, 역전파 함수로 구성!<br>\n",
    "입력값(num_x), 바이어스는 1로 설정하고 은닉층의 초깃값(num_yh), 출력층의 초깃값(num_y0)도 지정<br>\n",
    "self.activation~을 통해 활성화 함수 초깃값을 지정했고 self.weight_in,out을 통해 가중치 입력 초깃값, 출력 초깃값 지정!<br>\n",
    "random.random()은 0~1사이의 실수(float)을 리턴해준다.<br>\n",
    "self.gradient_in,out은 모멘텀 SGD를 위한 이전 가중치 초깃값이다."
   ]
  },
  {
   "cell_type": "markdown",
   "metadata": {},
   "source": [
    "<h2> 역전파 실행 함수 </h2><br>\n",
    "델타 출력 계산, 은닉 노드의 오차 함수, 출력 가중치 업데이트, 입력 가중치 업데이트 , 최소 제곱법을 이용한 오차 계산\n"
   ]
  },
  {
   "cell_type": "code",
   "execution_count": 68,
   "metadata": {},
   "outputs": [
    {
     "name": "stdout",
     "output_type": "stream",
     "text": [
      "Error : 0.99064\n",
      "Error : 0.00398\n",
      "Error : 0.00327\n",
      "Error : 0.00302\n",
      "Error : 0.00290\n",
      "Error : 0.00282\n",
      "Error : 0.00277\n",
      "Error : 0.00273\n",
      "Error : 0.00270\n",
      "Error : 0.00268\n",
      "Input: [0, 0], Predict : [0.0008096063430629609]\n",
      "Input: [0, 1], Predict : [0.9489496010872271]\n",
      "Input: [1, 0], Predict : [0.9479865083465]\n",
      "Input: [1, 1], Predict : [0.0005448532667056171]\n"
     ]
    }
   ],
   "source": [
    "if __name__ == '__main__':\n",
    "    n = NeuralNetwork(2,2,1)\n",
    "    n.train(data)\n",
    "    n.result(data)"
   ]
  },
  {
   "cell_type": "markdown",
   "metadata": {},
   "source": [
    "오차 역전파를 함수로 설명했으므로 입력값은 그대로 하고 타깃 값을 OR,AND,NAND에 맞게 설정해주면 Predict도 정해진 타깃 값에 따라 정해진다!"
   ]
  },
  {
   "cell_type": "code",
   "execution_count": null,
   "metadata": {},
   "outputs": [],
   "source": []
  }
 ],
 "metadata": {
  "kernelspec": {
   "display_name": "Python 3",
   "language": "python",
   "name": "python3"
  },
  "language_info": {
   "codemirror_mode": {
    "name": "ipython",
    "version": 3
   },
   "file_extension": ".py",
   "mimetype": "text/x-python",
   "name": "python",
   "nbconvert_exporter": "python",
   "pygments_lexer": "ipython3",
   "version": "3.6.5"
  }
 },
 "nbformat": 4,
 "nbformat_minor": 2
}
