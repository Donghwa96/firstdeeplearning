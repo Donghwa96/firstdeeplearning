{
 "cells": [
  {
   "cell_type": "code",
   "execution_count": 7,
   "metadata": {},
   "outputs": [
    {
     "name": "stderr",
     "output_type": "stream",
     "text": [
      "Using TensorFlow backend.\n"
     ]
    }
   ],
   "source": [
    "from keras.models import Sequential\n",
    "from keras.layers import Dense\n",
    "import numpy\n",
    "import tensorflow as tf"
   ]
  },
  {
   "cell_type": "markdown",
   "metadata": {},
   "source": [
    "딥러닝을 구동하는 데 필요한 케라스 함수를 불러옵니다."
   ]
  },
  {
   "cell_type": "code",
   "execution_count": 8,
   "metadata": {},
   "outputs": [],
   "source": [
    "seed = 0\n",
    "numpy.random.seed(seed)\n",
    "tf.set_random_seed(seed)"
   ]
  },
  {
   "cell_type": "markdown",
   "metadata": {},
   "source": [
    "실행할 때마다 같은 결과를 출력하기 위해 설정하는 부분<br>\n",
    "random()함수는 컴퓨터 안에 미리 내장된 수많은 '랜덤 테이블' 중 하나를 불러내 그 표의 순서대로 숫자를 보여 주는 것!<br>\n",
    "seed 값을 설정한다는 것은 그 랜덤 테이블 중에서 몇 번째 테이블을 불러와 쓸지 정하는 것!<br>\n",
    "따라서 seed 값이 같으면 똑같은 랜덤 값을 출력!"
   ]
  },
  {
   "cell_type": "code",
   "execution_count": 9,
   "metadata": {},
   "outputs": [],
   "source": [
    "Data_set = numpy.loadtxt(\"../dataset/ThoraricSurgery.csv\", delimiter=\",\")"
   ]
  },
  {
   "cell_type": "markdown",
   "metadata": {},
   "source": [
    "데이터셋 불러오기(폐암 환자 생존율)"
   ]
  },
  {
   "cell_type": "code",
   "execution_count": 10,
   "metadata": {},
   "outputs": [],
   "source": [
    "X = Data_set[:,0:17]\n",
    "Y = Data_set[:,17]"
   ]
  },
  {
   "cell_type": "markdown",
   "metadata": {},
   "source": [
    "1번부터 17번째 항목인 속성을 x값에 놔두고 18번째 항목인 클래스를 y값에 둔다.<br>\n",
    "클래스는 수술 생존, 즉 데이터셋의 핵심! X는 입력 데이터, Y는 라벨 값이라고 생각하면 된다."
   ]
  },
  {
   "cell_type": "code",
   "execution_count": 11,
   "metadata": {},
   "outputs": [],
   "source": [
    "model = Sequential()\n",
    "model.add(Dense(30, input_dim=17, activation='relu'))\n",
    "model.add(Dense(1, activation='sigmoid'))"
   ]
  },
  {
   "cell_type": "markdown",
   "metadata": {},
   "source": [
    "딥러닝 모델 구조를 구축하기 위해 케라스 함수 중 하나인 Sequential()함수를 사용 했고<br>\n",
    "그 안에 있는 층들을 add를 사용해서 구축!<br>\n",
    "Dense는 층의 상태를 정해주는데 첫번째 인자는 출력 뉴런 수를 말하고 <br>\n",
    "input_dim은 입력 뉴런수(입력 데이터로부터 몇 개의 값이 들어올지를 정하는 것)<br> activation은 활성화 함수를 의미.<br>\n",
    "활성화 함수는 딥러닝을 활성화할 때 적용시킬 함수를 말하는데<br>\n",
    "가중합의 결과를 놓고 1또는 0을 출력해 보내주는 데 결과를 0,1으로 판단하는 함수!<br>\n",
    "첫번째 모델 라인은 사실 입력층, 은닉층 두개의 역할을 동시에 함!<br>\n",
    "keras는 입력층을 따로 만드는게 아니라 input_dim을 적어줌으로써 역할 동시에 적용!<br>\n",
    "따라서 데이터에서 17개의 값을 받아 30개의 노드로 보내준다는 의미!<br>\n",
    "이제 은닉층의 각 노드는 17개의 입력 값으로부터 임의의 가중치를 가지고 <br>\n",
    "각 노드로 전송되어 활성화 함수를 만나 거친 결과 값이 출력층으로 전달!<br>\n",
    "마지막 모델 라인은 출력층 역할을 함.(그래서 첫번째 인자(출력 노드 수)가 1개)"
   ]
  },
  {
   "cell_type": "code",
   "execution_count": 12,
   "metadata": {},
   "outputs": [
    {
     "name": "stdout",
     "output_type": "stream",
     "text": [
      "Epoch 1/30\n",
      "470/470 [==============================] - 0s 341us/step - loss: 0.6612 - acc: 0.3149\n",
      "Epoch 2/30\n",
      "470/470 [==============================] - 0s 66us/step - loss: 0.1488 - acc: 0.8511\n",
      "Epoch 3/30\n",
      "470/470 [==============================] - 0s 68us/step - loss: 0.1488 - acc: 0.8511\n",
      "Epoch 4/30\n",
      "470/470 [==============================] - 0s 64us/step - loss: 0.1488 - acc: 0.8511\n",
      "Epoch 5/30\n",
      "470/470 [==============================] - 0s 70us/step - loss: 0.1488 - acc: 0.8511\n",
      "Epoch 6/30\n",
      "470/470 [==============================] - 0s 70us/step - loss: 0.1487 - acc: 0.8511\n",
      "Epoch 7/30\n",
      "470/470 [==============================] - 0s 68us/step - loss: 0.1487 - acc: 0.8511\n",
      "Epoch 8/30\n",
      "470/470 [==============================] - 0s 70us/step - loss: 0.1487 - acc: 0.8511\n",
      "Epoch 9/30\n",
      "470/470 [==============================] - 0s 71us/step - loss: 0.1487 - acc: 0.8511\n",
      "Epoch 10/30\n",
      "470/470 [==============================] - 0s 70us/step - loss: 0.1486 - acc: 0.8511\n",
      "Epoch 11/30\n",
      "470/470 [==============================] - 0s 70us/step - loss: 0.1498 - acc: 0.8447\n",
      "Epoch 12/30\n",
      "470/470 [==============================] - 0s 66us/step - loss: 0.1486 - acc: 0.8511\n",
      "Epoch 13/30\n",
      "470/470 [==============================] - 0s 79us/step - loss: 0.1485 - acc: 0.8511\n",
      "Epoch 14/30\n",
      "470/470 [==============================] - 0s 70us/step - loss: 0.1483 - acc: 0.8511\n",
      "Epoch 15/30\n",
      "470/470 [==============================] - 0s 66us/step - loss: 0.1485 - acc: 0.8511\n",
      "Epoch 16/30\n",
      "470/470 [==============================] - 0s 64us/step - loss: 0.1490 - acc: 0.8447\n",
      "Epoch 17/30\n",
      "470/470 [==============================] - 0s 70us/step - loss: 0.1479 - acc: 0.8489\n",
      "Epoch 18/30\n",
      "470/470 [==============================] - 0s 66us/step - loss: 0.1482 - acc: 0.8468\n",
      "Epoch 19/30\n",
      "470/470 [==============================] - 0s 74us/step - loss: 0.1476 - acc: 0.8511\n",
      "Epoch 20/30\n",
      "470/470 [==============================] - 0s 64us/step - loss: 0.1480 - acc: 0.8511\n",
      "Epoch 21/30\n",
      "470/470 [==============================] - 0s 68us/step - loss: 0.1475 - acc: 0.8511\n",
      "Epoch 22/30\n",
      "470/470 [==============================] - 0s 71us/step - loss: 0.1469 - acc: 0.8511\n",
      "Epoch 23/30\n",
      "470/470 [==============================] - 0s 79us/step - loss: 0.1466 - acc: 0.8511\n",
      "Epoch 24/30\n",
      "470/470 [==============================] - 0s 70us/step - loss: 0.1475 - acc: 0.8489\n",
      "Epoch 25/30\n",
      "470/470 [==============================] - 0s 81us/step - loss: 0.1470 - acc: 0.8511\n",
      "Epoch 26/30\n",
      "470/470 [==============================] - 0s 70us/step - loss: 0.1466 - acc: 0.8511\n",
      "Epoch 27/30\n",
      "470/470 [==============================] - 0s 70us/step - loss: 0.1472 - acc: 0.8511\n",
      "Epoch 28/30\n",
      "470/470 [==============================] - 0s 70us/step - loss: 0.1471 - acc: 0.8511\n",
      "Epoch 29/30\n",
      "470/470 [==============================] - 0s 66us/step - loss: 0.1470 - acc: 0.8489\n",
      "Epoch 30/30\n",
      "470/470 [==============================] - 0s 66us/step - loss: 0.1461 - acc: 0.8532\n"
     ]
    },
    {
     "data": {
      "text/plain": [
       "<keras.callbacks.History at 0x1fdfe41de10>"
      ]
     },
     "execution_count": 12,
     "metadata": {},
     "output_type": "execute_result"
    }
   ],
   "source": [
    "model.compile(loss='mean_squared_error', optimizer='adam', metrics=['accuracy'])\n",
    "model.fit(X,Y, epochs=30, batch_size=10)"
   ]
  },
  {
   "cell_type": "markdown",
   "metadata": {},
   "source": [
    "<h3>compile함수는 손실함수, optimizer, metrics를 정해준다</h3> <br>\n",
    "손실함수는 신경망을 실행할 때마다 어떻게 오차를 추적할 지 정해주는 함수를 말함. optimizer는 오차를 줄일 방법을 의미!<br>\n",
    "metrics는 평가 기준을 의미하며 모델이 컴파일될 때 모델 수행 결과를 나타나게끔 <br>\n",
    "설정하는 부분. 이 모델에서는 accuracy가 평가 기준!<br>\n",
    "model.compile 부분은 앞서 지정한 모델이 효과적으로 구현될 수 있게 <br>\n",
    "여러가지 환경을 설정해주면서 컴파일하는 부분.<br>\n",
    "우리가 모의고사를 공부하는 학생이라고 가정하자. <br>\n",
    "모의고사 1회분당 100문항이 있고 해답지도 있다. 다만 문제(X)와 해답지(Y) 둘다 있어야 학습이 가능하다!<br>\n",
    "<h3>batch_size는 몇개의 샘플로 가중치를 갱신할 것인지 지정하는 것!</h3><br>\n",
    "예를 들어 10문항으로 정해두면 10문항을 풀고 학습을 해서 다음 10문항을 풀 때 영향이 미치게 가중치를 갱신하는 것!<br>\n",
    "<br>\n",
    "<h3>epoch는 말 그대로 세대를 의미하는데 모의고사 1회분을 1 epoch라고 한다.</h3><br>\n",
    "그래서 이 모델처럼 epochs=30이면 모의고사 30회분을 풀어야 학습이 완료!<br>\n",
    "질문) 그러면 epoch를 높일수록 학습율이 증가?<br>\n",
    "답변) 반은 맞고 반은 틀림. 초반에는 epoch를 늘려 학습율을 높이는 게 중요하지만 적당히 하지 않으면 <br>\n",
    "딥러닝의 함정인 과적합(OverFitting)에 걸려 악영향을 미침."
   ]
  },
  {
   "cell_type": "code",
   "execution_count": 15,
   "metadata": {},
   "outputs": [
    {
     "name": "stdout",
     "output_type": "stream",
     "text": [
      "470/470 [==============================] - 0s 64us/step\n",
      "\n",
      " Accuracy: 0.8511\n"
     ]
    }
   ],
   "source": [
    "print(\"\\n Accuracy: %.4f\"%(model.evaluate(X,Y)[1]))"
   ]
  },
  {
   "cell_type": "markdown",
   "metadata": {},
   "source": [
    "말 그대로 평가해 이 모델의 metrics 였던 accuracy를 얻음!"
   ]
  },
  {
   "cell_type": "code",
   "execution_count": null,
   "metadata": {},
   "outputs": [],
   "source": []
  }
 ],
 "metadata": {
  "kernelspec": {
   "display_name": "Python 3",
   "language": "python",
   "name": "python3"
  },
  "language_info": {
   "codemirror_mode": {
    "name": "ipython",
    "version": 3
   },
   "file_extension": ".py",
   "mimetype": "text/x-python",
   "name": "python",
   "nbconvert_exporter": "python",
   "pygments_lexer": "ipython3",
   "version": "3.6.5"
  }
 },
 "nbformat": 4,
 "nbformat_minor": 2
}
