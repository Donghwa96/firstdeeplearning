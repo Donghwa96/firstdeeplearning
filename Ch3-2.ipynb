{
 "cells": [
  {
   "cell_type": "markdown",
   "metadata": {},
   "source": [
    "<h2> 코딩으로 확인하는 평균 제곱근 오차 </h2><br>\n",
    "선형 회귀는 입력 값이 많을 때는 사용하지 못해 평균 제곱근 오차 방법을 사용해야 함!"
   ]
  },
  {
   "cell_type": "code",
   "execution_count": 3,
   "metadata": {},
   "outputs": [
    {
     "name": "stdout",
     "output_type": "stream",
     "text": [
      "rmse 최종값: 3.3166247903554\n"
     ]
    }
   ],
   "source": [
    "import numpy as np\n",
    "ab = [3,76]\n",
    "data = [[2,81], [4,93], [6,91], [8,97]]\n",
    "x = [i[0] for i in data]\n",
    "y = [i[1] for i in data]\n",
    "\n",
    "def predict(x):\n",
    "    return ab[0]* x +ab[1]\n",
    "\n",
    "def rmse(p,a):\n",
    "    return np.sqrt(((p-a)**2).mean())\n",
    "\n",
    "def rmse_val(predict_result,y):\n",
    "    return rmse(np.array(predict_result), np.array(y))\n",
    "\n",
    "predict_result = []\n",
    "for i in range(len(x)):\n",
    "    predict_result.append(predict(x[i]))\n",
    "\n",
    "print(\"rmse 최종값: \" + str(rmse_val(predict_result,y)))"
   ]
  },
  {
   "cell_type": "markdown",
   "metadata": {},
   "source": [
    "평균 제곱근 오차란 예측 값과 실제 값의 차이인 오차를 평균을 낸 다음에 제곱근으로 나눠주는 것을 말함!<br>\n",
    "predict함수는 데이터의 예측 값을 정해주고 있고<br>\n",
    "rmse함수는 평균 제곱근 오차함수. p가 예측 값, a가 실제 값으로 들어갈 예정.<br>\n",
    "rmse_val함수는 평균 제곱근 오차를 (predict_result,y) 두값을 통해 rmse함수를 리턴해 rmse 최종값을 낼 예정 <br>\n",
    "predict_result에 빈 리스트를 적용해 예측 값을 넣은 후 최종값과 비교하기 위해 rmse_val(predict_result,y)사용!"
   ]
  }
 ],
 "metadata": {
  "kernelspec": {
   "display_name": "Python 3",
   "language": "python",
   "name": "python3"
  },
  "language_info": {
   "codemirror_mode": {
    "name": "ipython",
    "version": 3
   },
   "file_extension": ".py",
   "mimetype": "text/x-python",
   "name": "python",
   "nbconvert_exporter": "python",
   "pygments_lexer": "ipython3",
   "version": "3.6.5"
  }
 },
 "nbformat": 4,
 "nbformat_minor": 2
}
