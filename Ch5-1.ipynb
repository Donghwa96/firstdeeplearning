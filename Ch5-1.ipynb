{
 "cells": [
  {
   "cell_type": "markdown",
   "metadata": {},
   "source": [
    "<h1>5장. 참 거짓 판단 장치: 로지스틱 회귀 </h1><br>\n",
    "로지스틱 회귀는 참, 거짓 사이를 구분하는 S자 형태의 선을 그어 주는 작업!<br>\n",
    "종속변수에 로짓변환을 실시하기 때문에 로지스틱 회귀라고 부름!<br>\n",
    "선형 회귀와 원리는 비슷하지만 범주형인 결과를 원할 때 사용!<br>\n",
    "ex) 문제를 맞힐 지 아니면 틀릴 지, 정답이 A,B,C\n",
    "\n"
   ]
  },
  {
   "cell_type": "code",
   "execution_count": 2,
   "metadata": {},
   "outputs": [
    {
     "name": "stderr",
     "output_type": "stream",
     "text": [
      "C:\\Users\\Dong Hwa\\Anaconda3\\lib\\site-packages\\h5py\\__init__.py:36: FutureWarning: Conversion of the second argument of issubdtype from `float` to `np.floating` is deprecated. In future, it will be treated as `np.float64 == np.dtype(float).type`.\n",
      "  from ._conv import register_converters as _register_converters\n"
     ]
    },
    {
     "name": "stdout",
     "output_type": "stream",
     "text": [
      "Epoch: 0, loss = 4.4835, 기울기 = 2.3946, y = -0.8820\n",
      "Epoch: 6000, loss = 0.0152, 기울기 = 2.9209, y = 20.2966\n",
      "Epoch: 12000, loss = 0.0081, 기울기 = 3.5636, y = 24.8002\n",
      "Epoch: 18000, loss = 0.0055, 기울기 = 3.9556, y = 27.5458\n",
      "Epoch: 24000, loss = 0.0041, 기울기 = 4.2380, y = 29.5227\n",
      "Epoch: 30000, loss = 0.0033, 기울기 = 4.4585, y = 31.0672\n",
      "Epoch: 36000, loss = 0.0028, 기울기 = 4.6395, y = 32.3343\n",
      "Epoch: 42000, loss = 0.0024, 기울기 = 4.7929, y = 33.4084\n",
      "Epoch: 48000, loss = 0.0021, 기울기 = 4.9261, y = 34.3404\n",
      "Epoch: 54000, loss = 0.0019, 기울기 = 5.0436, y = 35.1634\n",
      "Epoch: 60000, loss = 0.0017, 기울기 = 5.1489, y = 35.9003\n"
     ]
    }
   ],
   "source": [
    "import tensorflow as tf\n",
    "import numpy as np\n",
    "data = [[2,0], [4,0], [6,0], [8,1], [10,1], [12,1], [14,1]]\n",
    "x_data = [x_row[0] for x_row in data]\n",
    "y_data = [y_row[1] for y_row in data]\n",
    "a = tf.Variable(tf.random_normal([1],dtype=tf.float64,seed=0))\n",
    "b = tf.Variable(tf.random_normal([1],dtype=tf.float64,seed=0))\n",
    "y = 1/(1+ np.e**(-a * x_data+b))\n",
    "loss = -tf.reduce_mean(np.array(y_data) * tf.log(y) + (1-np.array(y_data))*tf.log(1-y))\n",
    "learning_rate = 0.5\n",
    "gradient_decent= tf.train.GradientDescentOptimizer(learning_rate).minimize(loss)\n",
    "with tf.Session() as sess:\n",
    "    sess.run(tf.global_variables_initializer())\n",
    "                \n",
    "    for i in range(60001):\n",
    "        sess.run(gradient_decent)\n",
    "        if i % 6000 == 0:\n",
    "            print(\"Epoch: %.f, loss = %.4f, 기울기 = %.4f, y = %.4f\" %(i, sess.run(loss), sess.run(a), sess.run(b)))\n",
    "                "
   ]
  },
  {
   "cell_type": "markdown",
   "metadata": {},
   "source": [
    "tf.random_normal은 표준분포에서 난수 생성!<br>\n",
    "y = ~ 는 시그모이드 함수, 특징은 y 값이 0과 1사이라는 것인데<br>\n",
    "실제 값이 0과 1일 때 예측 값에 따라 달라지는 오차를 로그함수로 표현한게 loss!<br>\n",
    "감소하는 오차 확인!"
   ]
  },
  {
   "cell_type": "code",
   "execution_count": null,
   "metadata": {},
   "outputs": [],
   "source": []
  }
 ],
 "metadata": {
  "kernelspec": {
   "display_name": "Python 3",
   "language": "python",
   "name": "python3"
  },
  "language_info": {
   "codemirror_mode": {
    "name": "ipython",
    "version": 3
   },
   "file_extension": ".py",
   "mimetype": "text/x-python",
   "name": "python",
   "nbconvert_exporter": "python",
   "pygments_lexer": "ipython3",
   "version": "3.6.5"
  }
 },
 "nbformat": 4,
 "nbformat_minor": 2
}
