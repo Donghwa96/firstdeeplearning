{
 "cells": [
  {
   "cell_type": "markdown",
   "metadata": {},
   "source": [
    "<h1> 16장 이미지 인식의 꽃, CNN 익히기 </h1> <br>\n",
    "MNIST 데이터셋을 사용해 손글씨 이미지를 딥러닝을 통해 읽어보자.<br>\n",
    "MNIST 데이터셋이란 미국 국립표준기술원이 손글씨를 이용해 만든 데이터로 구성되어 있으며 <br>\n",
    "70,000개의 글자 이미지에 0~9까지 이름표를 붙인 데이터셋!"
   ]
  },
  {
   "cell_type": "code",
   "execution_count": 5,
   "metadata": {},
   "outputs": [],
   "source": [
    "from keras.datasets import mnist\n",
    "from keras.utils import np_utils\n",
    "from keras.models import Sequential\n",
    "from keras.layers import Dense\n",
    "from keras.callbacks import ModelCheckpoint, EarlyStopping\n",
    "\n",
    "import matplotlib.pyplot as plt\n",
    "import numpy\n",
    "import os\n",
    "import tensorflow as tf\n",
    "\n",
    "seed = 0\n",
    "numpy.random.seed(seed)\n",
    "tf.set_random_seed(seed)\n",
    "\n",
    "# MNIST 데이터셋에서는 70,000개의 이미지 중 60,000개를 학습용, 10,000개를 테스트용으로 미리 구분!\n",
    "(X_train, Y_train), (X_test, Y_test) = mnist.load_data()\n",
    "\n",
    "# 주어진 가로 28, 세로 28의 2차원 배열을 784개의 1차원 배열으로 바꿔주기 위해 reshape()함수 사용!\n",
    "# reshpae(총 샘플 수, 1차원 속성의 수)\n",
    "X_train = X_train.reshape(X_train.shape[0], 784).astype('float32') / 255\n",
    "X_test = X_test.reshape(X_test.shape[0], 784).astype('float32') / 255\n",
    "\n",
    "Y_train = np_utils.to_categorical(Y_train, 10)\n",
    "Y_test = np_utils.to_categorical(Y_test, 10)"
   ]
  },
  {
   "cell_type": "markdown",
   "metadata": {},
   "source": [
    "케라스는 데이터를 0에서 1 사이의 값으로 변환한 다음 구동할 때 최적의 성능을 보이므로 0~255 사이의 값을 0~1의 값으로 변환해야 함!<br>\n",
    "그래서 255로 나누는데 이렇게 데이터 폭이 클 때 적절한 값으로 분산의 정도를 바꿔주는 걸 <strong>데이터 정규화</strong>라고 함!<br>\n",
    "255로 나누면 0.~가 되므로 실수형(float32)로 데이터타입을 변환시켜줌.<br>\n",
    "그리고 클래스가 10(0~9)개 이므로 <strong>원-핫 인코딩</strong> 방식을 사용해 0,1로 된 벡터로 값을 수정시켜줘야함.<br>\n",
    "따라서 <strong>np_utils.to_categorical()</strong>함수 사용."
   ]
  },
  {
   "cell_type": "code",
   "execution_count": 7,
   "metadata": {},
   "outputs": [
    {
     "name": "stdout",
     "output_type": "stream",
     "text": [
      "\n",
      "Epoch 00001: val_loss improved from inf to 0.15399, saving model to ./model/01-0.1540.hdf5\n",
      "\n",
      "Epoch 00002: val_loss improved from 0.15399 to 0.10104, saving model to ./model/02-0.1010.hdf5\n",
      "\n",
      "Epoch 00003: val_loss improved from 0.10104 to 0.08197, saving model to ./model/03-0.0820.hdf5\n",
      "\n",
      "Epoch 00004: val_loss improved from 0.08197 to 0.06997, saving model to ./model/04-0.0700.hdf5\n",
      "\n",
      "Epoch 00005: val_loss improved from 0.06997 to 0.06670, saving model to ./model/05-0.0667.hdf5\n",
      "\n",
      "Epoch 00006: val_loss improved from 0.06670 to 0.06412, saving model to ./model/06-0.0641.hdf5\n",
      "\n",
      "Epoch 00007: val_loss improved from 0.06412 to 0.06254, saving model to ./model/07-0.0625.hdf5\n",
      "\n",
      "Epoch 00008: val_loss did not improve from 0.06254\n",
      "\n",
      "Epoch 00009: val_loss improved from 0.06254 to 0.05767, saving model to ./model/09-0.0577.hdf5\n",
      "\n",
      "Epoch 00010: val_loss did not improve from 0.05767\n",
      "\n",
      "Epoch 00011: val_loss did not improve from 0.05767\n",
      "\n",
      "Epoch 00012: val_loss did not improve from 0.05767\n",
      "\n",
      "Epoch 00013: val_loss did not improve from 0.05767\n",
      "\n",
      "Epoch 00014: val_loss did not improve from 0.05767\n",
      "\n",
      "Epoch 00015: val_loss did not improve from 0.05767\n",
      "\n",
      "Epoch 00016: val_loss did not improve from 0.05767\n",
      "\n",
      "Epoch 00017: val_loss did not improve from 0.05767\n",
      "\n",
      "Epoch 00018: val_loss did not improve from 0.05767\n",
      "\n",
      "Epoch 00019: val_loss did not improve from 0.05767\n",
      "10000/10000 [==============================] - 0s 35us/step\n",
      "\n",
      " Test Accuracy: 0.9761\n"
     ]
    },
    {
     "data": {
      "image/png": "[encoded data removed]",
      "text/plain": [
       "<Figure size 432x288 with 1 Axes>"
      ]
     },
     "metadata": {},
     "output_type": "display_data"
    }
   ],
   "source": [
    "model = Sequential()\n",
    "model.add(Dense(512, input_dim= 784, activation='relu'))\n",
    "model.add(Dense(10, activation = 'softmax'))\n",
    "\n",
    "model.compile(loss='categorical_crossentropy', optimizer='adam', metrics=['accuracy'])\n",
    "\n",
    "MODEL_DIR = './model/'\n",
    "if not os.path.exists(MODEL_DIR):\n",
    "    os.mkdir(MODEL_DIR)\n",
    "    \n",
    "modelpath = \"./model/{epoch:02d}-{val_loss:.4f}.hdf5\"\n",
    "checkpointer = ModelCheckpoint(filepath=modelpath, monitor = 'val_loss', verbose=1, save_best_only= True)\n",
    "early_stopping_callback = EarlyStopping(monitor='val_loss', patience=10)\n",
    "\n",
    "history = model.fit(X_train, Y_train, validation_data=(X_test,Y_test), epochs=30, batch_size=200, verbose=0, callbacks=[early_stopping_callback,checkpointer])\n",
    "\n",
    "print(\"\\n Test Accuracy: %.4f\" % (model.evaluate(X_test,Y_test)[1]))\n",
    "\n",
    "# 테스트셋의 오차\n",
    "y_vloss = history.history['val_loss']\n",
    "# 학습셋의 오차\n",
    "y_loss = history.history['loss']\n",
    "\n",
    "# 그래프로 표현\n",
    "x_len = numpy.arange(len(y_loss))\n",
    "plt.plot(x_len, y_vloss, marker='.', c=\"red\", label=\"Testset_loss\")\n",
    "plt.plot(x_len, y_loss, marker='.', c=\"blue\", label=\"Trainset_loss\")\n",
    "plt.grid()\n",
    "plt.xlabel('epoch')\n",
    "plt.ylabel('loss')\n",
    "plt.show()"
   ]
  },
  {
   "cell_type": "markdown",
   "metadata": {},
   "source": [
    "그래프를 보면 학습셋(파란선)에 대한 오차는 계속해서 줄어들고 있고 테스트셋(빨간 선)은 과적합이 일어나기 전에 학습을 끝냄!"
   ]
  },
  {
   "cell_type": "code",
   "execution_count": null,
   "metadata": {},
   "outputs": [],
   "source": []
  }
 ],
 "metadata": {
  "kernelspec": {
   "display_name": "Python 3",
   "language": "python",
   "name": "python3"
  },
  "language_info": {
   "codemirror_mode": {
    "name": "ipython",
    "version": 3
   },
   "file_extension": ".py",
   "mimetype": "text/x-python",
   "name": "python",
   "nbconvert_exporter": "python",
   "pygments_lexer": "ipython3",
   "version": "3.6.5"
  }
 },
 "nbformat": 4,
 "nbformat_minor": 2
}
