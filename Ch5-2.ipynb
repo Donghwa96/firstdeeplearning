{
 "cells": [
  {
   "cell_type": "markdown",
   "metadata": {},
   "source": [
    "<h1> 여러 입력 값을 갖는 로지스틱 회귀 </h1><br>\n",
    "선형 회귀와 마찬가지로 변수가 많아지면 더 정확하게 예측 가능!"
   ]
  },
  {
   "cell_type": "code",
   "execution_count": 2,
   "metadata": {},
   "outputs": [],
   "source": [
    "import tensorflow as tf\n",
    "import numpy as np\n",
    "x_data = np.array([[2,3],[4,3],[6,4],[8,6],[10,7],[12,8],[14,9]])\n",
    "y_data = np.array([0,0,0,1,1,1,1]).reshape(7,1)"
   ]
  },
  {
   "cell_type": "markdown",
   "metadata": {},
   "source": [
    "reshape함수를 사용해 재정렬! 7행 1열으로 x,y 매칭!\n"
   ]
  },
  {
   "cell_type": "code",
   "execution_count": 4,
   "metadata": {},
   "outputs": [],
   "source": [
    "seed = 0\n",
    "np.random.seed(seed)\n",
    "tf.set_random_seed(seed)\n",
    "X = tf.placeholder(tf.float64, shape=[None,2])\n",
    "Y = tf.placeholder(tf.float64, shape=[None,1])\n"
   ]
  },
  {
   "cell_type": "markdown",
   "metadata": {},
   "source": [
    "placeholder는 입력 값을 저장하는 공간! shape의 첫번째 인자 None이라는 건 </br>\n",
    "모든 데이터타입이 허용가능하다는 뜻! 두번째 인자는 차원 수를 얘기!<br>\n",
    "왜냐하면 x_data는 [2,3], y_data 는 [1]"
   ]
  },
  {
   "cell_type": "code",
   "execution_count": 5,
   "metadata": {},
   "outputs": [],
   "source": [
    "a = tf.Variable(tf.random_uniform([2,1], dtype=tf.float64))\n",
    "b = tf.Variable(tf.random_uniform([1], dtype=tf.float64))\n",
    "y = tf.sigmoid(tf.matmul(X,a)+b)"
   ]
  },
  {
   "cell_type": "markdown",
   "metadata": {},
   "source": [
    "([2,1])뜻은 들어오는 값은 2개, 나가는 값은 1개라는 뜻!<br>\n",
    "\n",
    "<h6>matmul함수</h6>\n",
    "변수가 x에서 x1,x2로 추가되면, 각각의 기울기 a1,a2도 계산해야한다.<br>\n",
    "즉, ax => a1x1 + a2x2로 바뀜 => [a1,a2] * [x1,x2]로도 표현\n",
    "이걸 텐서플로에서는 matmul함수가 해줌!"
   ]
  },
  {
   "cell_type": "code",
   "execution_count": 6,
   "metadata": {},
   "outputs": [],
   "source": [
    "loss = -tf.reduce_mean(Y * tf.log(y) + (1-Y) * tf.log(1-y))\n",
    "learning_rate = 0.1\n",
    "gradient_decent= tf.train.GradientDescentOptimizer(learning_rate).minimize(loss)\n",
    "predicted = tf.cast(y > 0.5, dtype=tf.float64)\n",
    "accuracy = tf.reduce_mean(tf.cast(tf.equal(predicted,Y), dtype=tf.float64))"
   ]
  },
  {
   "cell_type": "markdown",
   "metadata": {},
   "source": [
    "cast함수를 통해 텐서를 새로운 형태로 캐스팅!,\n",
    "즉 y가 0,5보다 높으면 1 아니면 0값을 주도록 하게 함."
   ]
  },
  {
   "cell_type": "code",
   "execution_count": 12,
   "metadata": {},
   "outputs": [
    {
     "name": "stdout",
     "output_type": "stream",
     "text": [
      "step = 300, a1= 0.8180, a2 = -0.5447, b= -2.5019, loss= 0.2625\n",
      "step = 600, a1= 0.8124, a2 = -0.2696, b= -3.9462, loss= 0.1893\n",
      "step = 900, a1= 0.7235, a2 = 0.0543, b= -4.9978, loss= 0.1484\n",
      "step = 1200, a1= 0.6218, a2 = 0.3568, b= -5.8321, loss= 0.1217\n",
      "step = 1500, a1= 0.5245, a2 = 0.6267, b= -6.5252, loss= 0.1029\n",
      "step = 1800, a1= 0.4365, a2 = 0.8651, b= -7.1186, loss= 0.0890\n",
      "step = 2100, a1= 0.3581, a2 = 1.0757, b= -7.6376, loss= 0.0783\n",
      "step = 2400, a1= 0.2887, a2 = 1.2629, b= -8.0988, loss= 0.0699\n",
      "step = 2700, a1= 0.2272, a2 = 1.4302, b= -8.5140, loss= 0.0631\n",
      "step = 3000, a1= 0.1723, a2 = 1.5808, b= -8.8915, loss= 0.0574\n"
     ]
    }
   ],
   "source": [
    "with tf.Session() as sess:\n",
    "    sess.run(tf.global_variables_initializer())\n",
    "    for i in range(3001):\n",
    "        a_, b_, loss_, _ = sess.run ([a,b,loss,gradient_decent], feed_dict={X:x_data, Y:y_data})\n",
    "        if (i+1)% 300 == 0:\n",
    "            print(\"step = %.d, a1= %.4f, a2 = %.4f, b= %.4f, loss= %.4f\"%(i+1, a_[0], a_[1], b_, loss_))"
   ]
  },
  {
   "cell_type": "markdown",
   "metadata": {},
   "source": [
    "세션이 실행될 때, X라는 통에 값을 하나씩 집어 넣는데 이걸 피딩이라고 한다.<br>\n",
    "그래서 feed_dict 변수를 이용해서 placeholder X에 x_data를 피드하면 <br>\n",
    "세션에 의해서 그래프가 실행되면서 X는 feed_dict에 의해서 정해진<br>\n",
    "피드 데이터 [2,3] ~를 하나씩 읽으면서 실행! Y도 마찬가지."
   ]
  },
  {
   "cell_type": "code",
   "execution_count": null,
   "metadata": {},
   "outputs": [],
   "source": []
  }
 ],
 "metadata": {
  "kernelspec": {
   "display_name": "Python 3",
   "language": "python",
   "name": "python3"
  },
  "language_info": {
   "codemirror_mode": {
    "name": "ipython",
    "version": 3
   },
   "file_extension": ".py",
   "mimetype": "text/x-python",
   "name": "python",
   "nbconvert_exporter": "python",
   "pygments_lexer": "ipython3",
   "version": "3.6.5"
  }
 },
 "nbformat": 4,
 "nbformat_minor": 2
}
